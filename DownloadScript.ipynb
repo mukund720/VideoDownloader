{
 "cells": [
  {
   "cell_type": "code",
   "execution_count": 1,
   "id": "b93fbd6c",
   "metadata": {},
   "outputs": [
    {
     "name": "stdout",
     "output_type": "stream",
     "text": [
      "Requirement already satisfied: youtube-dl in /Library/Frameworks/Python.framework/Versions/3.9/lib/python3.9/site-packages (2021.6.6)\n",
      "\u001b[33mWARNING: You are using pip version 21.1.1; however, version 21.1.2 is available.\n",
      "You should consider upgrading via the '/Library/Frameworks/Python.framework/Versions/3.9/bin/python3.9 -m pip install --upgrade pip' command.\u001b[0m\n",
      "Note: you may need to restart the kernel to use updated packages.\n"
     ]
    }
   ],
   "source": [
    "pip install --upgrade youtube-dl"
   ]
  },
  {
   "cell_type": "code",
   "execution_count": 2,
   "id": "2436a049",
   "metadata": {},
   "outputs": [],
   "source": [
    "from __future__ import unicode_literals\n",
    "import youtube_dl\n"
   ]
  },
  {
   "cell_type": "code",
   "execution_count": 3,
   "id": "97a6ffe7",
   "metadata": {},
   "outputs": [
    {
     "name": "stdout",
     "output_type": "stream",
     "text": [
      "enter linkhttps://www.youtube.com/watch?v=1AGrNTYuzQU\n",
      "[youtube] 1AGrNTYuzQU: Downloading webpage\n",
      "[youtube] 1AGrNTYuzQU: Downloading MPD manifest\n",
      "[download] Destination: HTML syllabus introduction in hindi_english-1AGrNTYuzQU.mp4\n",
      "[download] 100% of 5.55MiB in 00:0814MiB/s ETA 00:004\n"
     ]
    }
   ],
   "source": [
    "ydl_opts = {}\n",
    "link=input('enter link')\n",
    "with youtube_dl.YoutubeDL(ydl_opts) as ydl:\n",
    "    ydl.download([link])"
   ]
  }
 ],
 "metadata": {
  "kernelspec": {
   "display_name": "Python 3",
   "language": "python",
   "name": "python3"
  },
  "language_info": {
   "codemirror_mode": {
    "name": "ipython",
    "version": 3
   },
   "file_extension": ".py",
   "mimetype": "text/x-python",
   "name": "python",
   "nbconvert_exporter": "python",
   "pygments_lexer": "ipython3",
   "version": "3.9.5"
  }
 },
 "nbformat": 4,
 "nbformat_minor": 5
}
